{
  "nbformat": 4,
  "nbformat_minor": 0,
  "metadata": {
    "colab": {
      "name": "Untitled30.ipynb",
      "version": "0.3.2",
      "provenance": [],
      "collapsed_sections": [],
      "include_colab_link": true
    },
    "kernelspec": {
      "name": "python3",
      "display_name": "Python 3"
    },
    "accelerator": "GPU"
  },
  "cells": [
    {
      "cell_type": "markdown",
      "metadata": {
        "id": "view-in-github",
        "colab_type": "text"
      },
      "source": [
        "<a href=\"https://colab.research.google.com/github/PurvaChiniya/Sentiment_analysis/blob/master/CNN_TEXT_CLASSIFIER.ipynb\" target=\"_parent\"><img src=\"https://colab.research.google.com/assets/colab-badge.svg\" alt=\"Open In Colab\"/></a>"
      ]
    },
    {
      "cell_type": "markdown",
      "metadata": {
        "id": "Ig4dvmkvnpF_",
        "colab_type": "text"
      },
      "source": [
        "# IMPORT LIBRARIES"
      ]
    },
    {
      "cell_type": "code",
      "metadata": {
        "id": "W9OgZoKde8lC",
        "colab_type": "code",
        "colab": {}
      },
      "source": [
        "import os\n",
        "import sys\n",
        "import time\n",
        "import torch\n",
        "from torch.nn import functional as F\n",
        "from torch.autograd import Variable\n",
        "import numpy as np\n",
        "from torchtext import data\n",
        "from torchtext import datasets\n",
        "import torch.optim as optim\n",
        "import numpy as np\n",
        "from torchtext.vocab import Vectors, GloVe\n"
      ],
      "execution_count": 0,
      "outputs": []
    },
    {
      "cell_type": "code",
      "metadata": {
        "id": "-lRs2DGDn9NX",
        "colab_type": "code",
        "colab": {}
      },
      "source": [
        "tokenize = lambda x: x.split()"
      ],
      "execution_count": 0,
      "outputs": []
    },
    {
      "cell_type": "markdown",
      "metadata": {
        "id": "8mLVFJh45en6",
        "colab_type": "text"
      },
      "source": [
        "# LOAD DATA"
      ]
    },
    {
      "cell_type": "code",
      "metadata": {
        "id": "184KJsbXsr3S",
        "colab_type": "code",
        "colab": {}
      },
      "source": [
        "TEXT = data.Field(sequential=True, tokenize=tokenize, lower=True, include_lengths=True, batch_first=True, fix_length=200)\n",
        "LABEL = data.LabelField()\n",
        "train_data, test_data = datasets.IMDB.splits(TEXT, LABEL)\n",
        "TEXT.build_vocab(train_data, vectors=GloVe(name='6B', dim=300))\n",
        "LABEL.build_vocab(train_data)"
      ],
      "execution_count": 0,
      "outputs": []
    },
    {
      "cell_type": "code",
      "metadata": {
        "id": "JsqA5dU4sudg",
        "colab_type": "code",
        "colab": {
          "base_uri": "https://localhost:8080/",
          "height": 34
        },
        "outputId": "c45d60af-7f96-4f4c-99c7-a80f48f8e454"
      },
      "source": [
        "word_embeddings = TEXT.vocab.vectors\n",
        "len(word_embeddings)"
      ],
      "execution_count": 144,
      "outputs": [
        {
          "output_type": "execute_result",
          "data": {
            "text/plain": [
              "251639"
            ]
          },
          "metadata": {
            "tags": []
          },
          "execution_count": 144
        }
      ]
    },
    {
      "cell_type": "code",
      "metadata": {
        "id": "7lydqYgEs2-n",
        "colab_type": "code",
        "outputId": "c5a05d49-4dd0-497b-ae6f-43ec557bbf7a",
        "colab": {
          "base_uri": "https://localhost:8080/",
          "height": 67
        }
      },
      "source": [
        "print (\"Length of Text Vocabulary: \" + str(len(TEXT.vocab)))\n",
        "print (\"Vector size of Text Vocabulary: \", TEXT.vocab.vectors.size())\n",
        "print (\"Label Length: \" + str(len(LABEL.vocab)))"
      ],
      "execution_count": 145,
      "outputs": [
        {
          "output_type": "stream",
          "text": [
            "Length of Text Vocabulary: 251639\n",
            "Vector size of Text Vocabulary:  torch.Size([251639, 300])\n",
            "Label Length: 2\n"
          ],
          "name": "stdout"
        }
      ]
    },
    {
      "cell_type": "code",
      "metadata": {
        "id": "HMAmN5A_tD0Y",
        "colab_type": "code",
        "colab": {}
      },
      "source": [
        "train_data, valid_data = train_data.split()\n",
        "train_iter, valid_iter, test_iter = data.BucketIterator.splits((train_data, valid_data, test_data), batch_size=32, sort_key=lambda x: len(x.text), repeat=False, shuffle=True)\n",
        "vocab_size = len(TEXT.vocab)"
      ],
      "execution_count": 0,
      "outputs": []
    },
    {
      "cell_type": "code",
      "metadata": {
        "id": "zCLEBa5crBCq",
        "colab_type": "code",
        "colab": {}
      },
      "source": [
        ""
      ],
      "execution_count": 0,
      "outputs": []
    },
    {
      "cell_type": "markdown",
      "metadata": {
        "id": "cKY9GKtjO9Sq",
        "colab_type": "text"
      },
      "source": [
        "# MODEL"
      ]
    },
    {
      "cell_type": "code",
      "metadata": {
        "id": "wQdEt6qEDJaZ",
        "colab_type": "code",
        "colab": {}
      },
      "source": [
        "class RCNN(nn.Module):\n",
        "\tdef __init__(self, batch_size, output_size, hidden_size, vocab_size, embedding_length, weights):\n",
        "\t\tsuper(RCNN, self).__init__()\n",
        "\t\t\n",
        "\t\t\"\"\"\n",
        "\t\tArguments\n",
        "\t\t---------\n",
        "\t\tbatch_size : Size of the batch which is same as the batch_size of the data returned by the TorchText BucketIterator\n",
        "\t\toutput_size : 2 = (pos, neg)\n",
        "\t\thidden_sie : Size of the hidden_state of the LSTM\n",
        "\t\tvocab_size : Size of the vocabulary containing unique words\n",
        "\t\tembedding_length : Embedding dimension of GloVe word embeddings\n",
        "\t\tweights : Pre-trained GloVe word_embeddings which we will use to create our word_embedding look-up table \n",
        "\t\t\n",
        "\t\t\"\"\"\n",
        "\t\t\n",
        "\t\tself.batch_size = batch_size\n",
        "\t\tself.output_size = output_size\n",
        "\t\tself.hidden_size = hidden_size\n",
        "\t\tself.vocab_size = vocab_size\n",
        "\t\tself.embedding_length = embedding_length\n",
        "\t\t\n",
        "\t\tself.word_embeddings = nn.Embedding(vocab_size, embedding_length)# Initializing the look-up table.\n",
        "\t\tself.word_embeddings.weight = nn.Parameter(weights, requires_grad=False) # Assigning the look-up table to the pre-trained GloVe word embedding.\n",
        "\t\tself.dropout = 0.8\n",
        "\t\tself.lstm = nn.LSTM(embedding_length, hidden_size, dropout=self.dropout, bidirectional=True)\n",
        "\t\tself.W2 = nn.Linear(2*hidden_size+embedding_length, hidden_size)\n",
        "\t\tself.label = nn.Linear(hidden_size, output_size)\n",
        "\t\t\n",
        "\tdef forward(self, input_sentence, batch_size=None):\n",
        "\t\n",
        "\t\t\"\"\" \n",
        "\t\tParameters\n",
        "\t\t----------\n",
        "\t\tinput_sentence: input_sentence of shape = (batch_size, num_sequences)\n",
        "\t\tbatch_size : default = None. Used only for prediction on a single sentence after training (batch_size = 1)\n",
        "\t\t\n",
        "\t\tReturns\n",
        "\t\t-------\n",
        "\t\tOutput of the linear layer containing logits for positive & negative class which receives its input as the final_hidden_state of the LSTM\n",
        "\t\tfinal_output.shape = (batch_size, output_size)\n",
        "\t\t\n",
        "\t\t\"\"\"\n",
        "\t\t\n",
        "\t\t\"\"\"\n",
        "\t\t\n",
        "\t\tThe idea of the paper \"Recurrent Convolutional Neural Networks for Text Classification\" is that we pass the embedding vector\n",
        "\t\tof the text sequences through a bidirectional LSTM and then for each sequence, our final embedding vector is the concatenation of \n",
        "\t\tits own GloVe embedding and the left and right contextual embedding which in bidirectional LSTM is same as the corresponding hidden\n",
        "\t\tstate. This final embedding is passed through a linear layer which maps this long concatenated encoding vector back to the hidden_size\n",
        "\t\tvector. After this step, we use a max pooling layer across all sequences of texts. This converts any varying length text into a fixed\n",
        "\t\tdimension tensor of size (batch_size, hidden_size) and finally we map this to the output layer.\n",
        "\t\t\"\"\"\n",
        "\t\tinput = self.word_embeddings(input_sentence) # embedded input of shape = (batch_size, num_sequences, embedding_length)\n",
        "\t\tinput = input.permute(1, 0, 2) # input.size() = (num_sequences, batch_size, embedding_length)\n",
        "\t\tif batch_size is None:\n",
        "\t\t\th_0 = Variable(torch.zeros(2, self.batch_size, self.hidden_size).cuda()) # Initial hidden state of the LSTM\n",
        "\t\t\tc_0 = Variable(torch.zeros(2, self.batch_size, self.hidden_size).cuda()) # Initial cell state of the LSTM\n",
        "\t\telse:\n",
        "\t\t\th_0 = Variable(torch.zeros(2, batch_size, self.hidden_size).cuda())\n",
        "\t\t\tc_0 = Variable(torch.zeros(2, batch_size, self.hidden_size).cuda())\n",
        "\n",
        "\t\toutput, (final_hidden_state, final_cell_state) = self.lstm(input, (h_0, c_0))\n",
        "\t\t\n",
        "\t\tfinal_encoding = torch.cat((output, input), 2).permute(1, 0, 2)\n",
        "\t\ty = self.W2(final_encoding) # y.size() = (batch_size, num_sequences, hidden_size)\n",
        "\t\ty = y.permute(0, 2, 1) # y.size() = (batch_size, hidden_size, num_sequences)\n",
        "\t\ty = F.max_pool1d(y, y.size()[2]) # y.size() = (batch_size, hidden_size, 1)\n",
        "\t\ty = y.squeeze(2)\n",
        "\t\tlogits = self.label(y)\n",
        "\t\t\n",
        "\t\treturn logits"
      ],
      "execution_count": 0,
      "outputs": []
    },
    {
      "cell_type": "code",
      "metadata": {
        "id": "qJnvMaLeO4GT",
        "colab_type": "code",
        "colab": {}
      },
      "source": [
        "def clip_gradient(model, clip_value):\n",
        "    params = list(filter(lambda p: p.grad is not None, model.parameters()))\n",
        "    for p in params:\n",
        "        p.grad.data.clamp_(-clip_value, clip_value)"
      ],
      "execution_count": 0,
      "outputs": []
    },
    {
      "cell_type": "code",
      "metadata": {
        "id": "CUQvb9mwPgou",
        "colab_type": "code",
        "colab": {}
      },
      "source": [
        "def train_model(model, train_iter, epoch):\n",
        "    total_epoch_loss = 0\n",
        "    total_epoch_acc = 0\n",
        "    model.cuda()\n",
        "    optim = torch.optim.Adam(filter(lambda p: p.requires_grad, model.parameters()))\n",
        "    steps = 0\n",
        "    model.train()\n",
        "    for idx, batch in enumerate(train_iter):\n",
        "        text = batch.text[0]\n",
        "        target = batch.label\n",
        "        target = torch.autograd.Variable(target).long()\n",
        "        if torch.cuda.is_available():\n",
        "            text = text.cuda()\n",
        "            target = target.cuda()\n",
        "        if (text.size()[0] is not 32):# One of the batch returned by BucketIterator has length different than 32.\n",
        "            continue\n",
        "        optim.zero_grad()\n",
        "        prediction = model(text)\n",
        "        loss = loss_fn(prediction, target)\n",
        "        num_corrects = (torch.max(prediction, 1)[1].view(target.size()).data == target.data).float().sum()\n",
        "        acc = 100.0 * num_corrects/len(batch)\n",
        "        loss.backward()\n",
        "        clip_gradient(model, 1e-1)\n",
        "        optim.step()\n",
        "        steps += 1\n",
        "        \n",
        "        if steps % 100 == 0:\n",
        "            print (f'Epoch: {epoch+1}, Idx: {idx+1}, Training Loss: {loss.item():.4f}, Training Accuracy: {acc.item(): .2f}%')\n",
        "        \n",
        "        total_epoch_loss += loss.item()\n",
        "        total_epoch_acc += acc.item()\n",
        "        \n",
        "    return total_epoch_loss/len(train_iter), total_epoch_acc/len(train_iter)"
      ],
      "execution_count": 0,
      "outputs": []
    },
    {
      "cell_type": "code",
      "metadata": {
        "id": "rzMvFfGjPna7",
        "colab_type": "code",
        "colab": {}
      },
      "source": [
        "def eval_model(model, val_iter):\n",
        "    total_epoch_loss = 0\n",
        "    total_epoch_acc = 0\n",
        "    model.eval()\n",
        "    with torch.no_grad():\n",
        "        for idx, batch in enumerate(val_iter):\n",
        "            text = batch.text[0]\n",
        "            if (text.size()[0] is not 32):\n",
        "                continue\n",
        "            target = batch.label\n",
        "            target = torch.autograd.Variable(target).long()\n",
        "            if torch.cuda.is_available():\n",
        "                text = text.cuda()\n",
        "                target = target.cuda()\n",
        "            prediction = model(text)\n",
        "            loss = loss_fn(prediction, target)\n",
        "            num_corrects = (torch.max(prediction, 1)[1].view(target.size()).data == target.data).sum()\n",
        "            acc = 100.0 * num_corrects/len(batch)\n",
        "            total_epoch_loss += loss.item()\n",
        "            total_epoch_acc += acc.item()\n",
        "\n",
        "    return total_epoch_loss/len(val_iter), total_epoch_acc/len(val_iter)\n",
        "\t"
      ],
      "execution_count": 0,
      "outputs": []
    },
    {
      "cell_type": "markdown",
      "metadata": {
        "id": "yYYviE_tO4fd",
        "colab_type": "text"
      },
      "source": [
        "# TRAINING PARAMETERS"
      ]
    },
    {
      "cell_type": "code",
      "metadata": {
        "id": "U1NWR6Ek3rq3",
        "colab_type": "code",
        "colab": {
          "base_uri": "https://localhost:8080/",
          "height": 70
        },
        "outputId": "28cd6fe1-d81c-47fd-cc18-0ae9e91a429b"
      },
      "source": [
        "\n",
        "\n",
        "learning_rate = 2e-5\n",
        "batch_size = 32\n",
        "output_size = 2\n",
        "hidden_size = 256\n",
        "embedding_length = 300\n",
        "in_channels=1\n",
        "kernel_heights=[3,4,5]\n",
        "stride=1\n",
        "padding=1\n",
        "out_channels=1\n",
        "keep_probab=0.5\n",
        "model = RCNN(batch_size, output_size, hidden_size, vocab_size, embedding_length, weights)\n",
        "loss_fn = F.cross_entropy\n",
        "\n"
      ],
      "execution_count": 151,
      "outputs": [
        {
          "output_type": "stream",
          "text": [
            "/usr/local/lib/python3.6/dist-packages/torch/nn/modules/rnn.py:54: UserWarning: dropout option adds dropout after all but last recurrent layer, so non-zero dropout expects num_layers greater than 1, but got dropout=0.8 and num_layers=1\n",
            "  \"num_layers={}\".format(dropout, num_layers))\n"
          ],
          "name": "stderr"
        }
      ]
    },
    {
      "cell_type": "markdown",
      "metadata": {
        "id": "dUSH9mA4OdBB",
        "colab_type": "text"
      },
      "source": [
        "# TRAIN"
      ]
    },
    {
      "cell_type": "code",
      "metadata": {
        "id": "pnKi_M7EtxtI",
        "colab_type": "code",
        "colab": {
          "base_uri": "https://localhost:8080/",
          "height": 1000
        },
        "outputId": "bd091999-be4f-4f9b-aba2-cbb4362acfdb"
      },
      "source": [
        "for epoch in range(10):\n",
        "    train_loss, train_acc = train_model(model, train_iter, epoch)\n",
        "    val_loss, val_acc = eval_model(model, valid_iter)\n",
        "    \n",
        "    print(f'Epoch: {epoch+1:02}, Train Loss: {train_loss:.3f}, Train Acc: {train_acc:.2f}%, Val. Loss: {val_loss:3f}, Val. Acc: {val_acc:.2f}%')\n",
        "\n"
      ],
      "execution_count": 152,
      "outputs": [
        {
          "output_type": "stream",
          "text": [
            "Epoch: 1, Idx: 100, Training Loss: 0.3276, Training Accuracy:  84.38%\n",
            "Epoch: 1, Idx: 200, Training Loss: 0.4323, Training Accuracy:  84.38%\n",
            "Epoch: 1, Idx: 300, Training Loss: 0.1966, Training Accuracy:  93.75%\n",
            "Epoch: 1, Idx: 400, Training Loss: 0.4009, Training Accuracy:  78.12%\n",
            "Epoch: 1, Idx: 500, Training Loss: 0.3956, Training Accuracy:  81.25%\n",
            "Epoch: 01, Train Loss: 0.421, Train Acc: 80.26%, Val. Loss: 0.359247, Val. Acc: 83.31%\n",
            "Epoch: 2, Idx: 100, Training Loss: 0.2587, Training Accuracy:  84.38%\n",
            "Epoch: 2, Idx: 200, Training Loss: 0.4337, Training Accuracy:  84.38%\n",
            "Epoch: 2, Idx: 300, Training Loss: 0.3673, Training Accuracy:  81.25%\n",
            "Epoch: 2, Idx: 400, Training Loss: 0.3919, Training Accuracy:  81.25%\n",
            "Epoch: 2, Idx: 500, Training Loss: 0.2708, Training Accuracy:  90.62%\n",
            "Epoch: 02, Train Loss: 0.313, Train Acc: 86.57%, Val. Loss: 0.336695, Val. Acc: 84.23%\n",
            "Epoch: 3, Idx: 100, Training Loss: 0.2055, Training Accuracy:  90.62%\n",
            "Epoch: 3, Idx: 200, Training Loss: 0.1499, Training Accuracy:  93.75%\n",
            "Epoch: 3, Idx: 300, Training Loss: 0.2649, Training Accuracy:  87.50%\n",
            "Epoch: 3, Idx: 400, Training Loss: 0.3306, Training Accuracy:  90.62%\n",
            "Epoch: 3, Idx: 500, Training Loss: 0.1250, Training Accuracy:  96.88%\n",
            "Epoch: 03, Train Loss: 0.226, Train Acc: 90.72%, Val. Loss: 0.344581, Val. Acc: 85.05%\n",
            "Epoch: 4, Idx: 100, Training Loss: 0.2209, Training Accuracy:  90.62%\n",
            "Epoch: 4, Idx: 200, Training Loss: 0.2622, Training Accuracy:  93.75%\n",
            "Epoch: 4, Idx: 300, Training Loss: 0.1703, Training Accuracy:  87.50%\n",
            "Epoch: 4, Idx: 400, Training Loss: 0.1567, Training Accuracy:  93.75%\n",
            "Epoch: 4, Idx: 500, Training Loss: 0.0876, Training Accuracy:  96.88%\n",
            "Epoch: 04, Train Loss: 0.134, Train Acc: 95.00%, Val. Loss: 0.384633, Val. Acc: 84.72%\n",
            "Epoch: 5, Idx: 100, Training Loss: 0.0418, Training Accuracy:  100.00%\n",
            "Epoch: 5, Idx: 200, Training Loss: 0.0315, Training Accuracy:  100.00%\n",
            "Epoch: 5, Idx: 300, Training Loss: 0.0696, Training Accuracy:  96.88%\n",
            "Epoch: 5, Idx: 400, Training Loss: 0.0310, Training Accuracy:  100.00%\n",
            "Epoch: 5, Idx: 500, Training Loss: 0.0467, Training Accuracy:  100.00%\n",
            "Epoch: 05, Train Loss: 0.065, Train Acc: 97.75%, Val. Loss: 0.452371, Val. Acc: 84.86%\n",
            "Epoch: 6, Idx: 100, Training Loss: 0.0075, Training Accuracy:  100.00%\n",
            "Epoch: 6, Idx: 200, Training Loss: 0.0245, Training Accuracy:  100.00%\n",
            "Epoch: 6, Idx: 300, Training Loss: 0.0577, Training Accuracy:  100.00%\n",
            "Epoch: 6, Idx: 400, Training Loss: 0.0096, Training Accuracy:  100.00%\n",
            "Epoch: 6, Idx: 500, Training Loss: 0.0167, Training Accuracy:  100.00%\n",
            "Epoch: 06, Train Loss: 0.035, Train Acc: 98.69%, Val. Loss: 0.556223, Val. Acc: 84.31%\n",
            "Epoch: 7, Idx: 100, Training Loss: 0.1072, Training Accuracy:  93.75%\n",
            "Epoch: 7, Idx: 200, Training Loss: 0.0271, Training Accuracy:  100.00%\n",
            "Epoch: 7, Idx: 300, Training Loss: 0.0063, Training Accuracy:  100.00%\n",
            "Epoch: 7, Idx: 400, Training Loss: 0.0127, Training Accuracy:  100.00%\n",
            "Epoch: 7, Idx: 500, Training Loss: 0.0058, Training Accuracy:  100.00%\n",
            "Epoch: 07, Train Loss: 0.027, Train Acc: 98.94%, Val. Loss: 0.614556, Val. Acc: 84.72%\n",
            "Epoch: 8, Idx: 100, Training Loss: 0.0073, Training Accuracy:  100.00%\n",
            "Epoch: 8, Idx: 200, Training Loss: 0.0007, Training Accuracy:  100.00%\n",
            "Epoch: 8, Idx: 300, Training Loss: 0.0352, Training Accuracy:  96.88%\n",
            "Epoch: 8, Idx: 400, Training Loss: 0.0412, Training Accuracy:  96.88%\n",
            "Epoch: 8, Idx: 500, Training Loss: 0.0036, Training Accuracy:  100.00%\n",
            "Epoch: 08, Train Loss: 0.019, Train Acc: 99.19%, Val. Loss: 0.672142, Val. Acc: 83.65%\n",
            "Epoch: 9, Idx: 100, Training Loss: 0.0114, Training Accuracy:  100.00%\n",
            "Epoch: 9, Idx: 200, Training Loss: 0.0061, Training Accuracy:  100.00%\n",
            "Epoch: 9, Idx: 300, Training Loss: 0.0133, Training Accuracy:  100.00%\n",
            "Epoch: 9, Idx: 400, Training Loss: 0.0071, Training Accuracy:  100.00%\n",
            "Epoch: 9, Idx: 500, Training Loss: 0.0128, Training Accuracy:  100.00%\n",
            "Epoch: 09, Train Loss: 0.017, Train Acc: 99.21%, Val. Loss: 0.735216, Val. Acc: 83.99%\n",
            "Epoch: 10, Idx: 100, Training Loss: 0.0109, Training Accuracy:  100.00%\n",
            "Epoch: 10, Idx: 200, Training Loss: 0.0111, Training Accuracy:  100.00%\n",
            "Epoch: 10, Idx: 300, Training Loss: 0.0186, Training Accuracy:  100.00%\n",
            "Epoch: 10, Idx: 400, Training Loss: 0.0012, Training Accuracy:  100.00%\n",
            "Epoch: 10, Idx: 500, Training Loss: 0.0086, Training Accuracy:  100.00%\n",
            "Epoch: 10, Train Loss: 0.017, Train Acc: 99.18%, Val. Loss: 0.763687, Val. Acc: 84.40%\n"
          ],
          "name": "stdout"
        }
      ]
    },
    {
      "cell_type": "markdown",
      "metadata": {
        "id": "FVeO-gg1Ofkc",
        "colab_type": "text"
      },
      "source": [
        "# ACCURACY"
      ]
    },
    {
      "cell_type": "code",
      "metadata": {
        "id": "tLrfzwzvOka1",
        "colab_type": "code",
        "colab": {
          "base_uri": "https://localhost:8080/",
          "height": 34
        },
        "outputId": "44c3af4d-e7b5-4757-92db-1b25ba0037c3"
      },
      "source": [
        "    \n",
        "test_loss, test_acc = eval_model(model, test_iter)\n",
        "print(f'Test Loss: {test_loss:.3f}, Test Acc: {test_acc:.2f}%')\n"
      ],
      "execution_count": 153,
      "outputs": [
        {
          "output_type": "stream",
          "text": [
            "Test Loss: 0.799, Test Acc: 83.65%\n"
          ],
          "name": "stdout"
        }
      ]
    },
    {
      "cell_type": "markdown",
      "metadata": {
        "id": "HFC0Q1qgOVF6",
        "colab_type": "text"
      },
      "source": [
        "# PREDICTION"
      ]
    },
    {
      "cell_type": "code",
      "metadata": {
        "id": "YDCPNalYOWds",
        "colab_type": "code",
        "colab": {
          "base_uri": "https://localhost:8080/",
          "height": 87
        },
        "outputId": "f948cc61-2840-4fdc-9f74-ca66baca00c8"
      },
      "source": [
        "test_sen1 = \"This is one of the best creation of Nolan. I can say, it's his magnum opus. Loved the soundtrack and especially those creative dialogues.\"\n",
        "test_sen2 = \"Ohh, such a ridiculous movie. Not gonna recommend it to anyone. Complete waste of time and money.\"\n",
        "\n",
        "test_sen1 = TEXT.preprocess(test_sen1)\n",
        "test_sen1 = [[TEXT.vocab.stoi[x] for x in test_sen1]]\n",
        "\n",
        "test_sen2 = TEXT.preprocess(test_sen2)\n",
        "test_sen2 = [[TEXT.vocab.stoi[x] for x in test_sen2]]\n",
        "\n",
        "test_sen = np.asarray(test_sen1)\n",
        "test_sen = torch.LongTensor(test_sen)\n",
        "test_tensor = Variable(test_sen, volatile=True)\n",
        "test_tensor = test_tensor.cuda()\n",
        "model.eval()\n",
        "output = model(test_tensor, 1)\n",
        "out = F.softmax(output, 1)\n",
        "if (torch.argmax(out[0]) == 1):\n",
        "    print (\"Sentiment: Positive\")\n",
        "else:\n",
        "    print (\"Sentiment: Negative\")"
      ],
      "execution_count": 154,
      "outputs": [
        {
          "output_type": "stream",
          "text": [
            "Sentiment: Positive\n"
          ],
          "name": "stdout"
        },
        {
          "output_type": "stream",
          "text": [
            "/usr/local/lib/python3.6/dist-packages/ipykernel_launcher.py:13: UserWarning: volatile was removed and now has no effect. Use `with torch.no_grad():` instead.\n",
            "  del sys.path[0]\n"
          ],
          "name": "stderr"
        }
      ]
    },
    {
      "cell_type": "code",
      "metadata": {
        "id": "w2SWGtAcOXO2",
        "colab_type": "code",
        "colab": {
          "base_uri": "https://localhost:8080/",
          "height": 87
        },
        "outputId": "c0418341-26d0-4d43-8d56-7aad7df96fa8"
      },
      "source": [
        "test_sen = np.asarray(test_sen2)\n",
        "test_sen = torch.LongTensor(test_sen)\n",
        "test_tensor = Variable(test_sen, volatile=True)\n",
        "test_tensor = test_tensor.cuda()\n",
        "model.eval()\n",
        "output = model(test_tensor, 1)\n",
        "out = F.softmax(output, 1)\n",
        "if (torch.argmax(out[0]) == 1):\n",
        "    print (\"Sentiment: Positive\")\n",
        "else:\n",
        "    print (\"Sentiment: Negative\")"
      ],
      "execution_count": 155,
      "outputs": [
        {
          "output_type": "stream",
          "text": [
            "Sentiment: Negative\n"
          ],
          "name": "stdout"
        },
        {
          "output_type": "stream",
          "text": [
            "/usr/local/lib/python3.6/dist-packages/ipykernel_launcher.py:3: UserWarning: volatile was removed and now has no effect. Use `with torch.no_grad():` instead.\n",
            "  This is separate from the ipykernel package so we can avoid doing imports until\n"
          ],
          "name": "stderr"
        }
      ]
    },
    {
      "cell_type": "code",
      "metadata": {
        "id": "aTXtN1-qRQPq",
        "colab_type": "code",
        "colab": {}
      },
      "source": [
        ""
      ],
      "execution_count": 0,
      "outputs": []
    }
  ]
}