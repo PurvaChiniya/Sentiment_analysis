{
  "nbformat": 4,
  "nbformat_minor": 0,
  "metadata": {
    "colab": {
      "name": "Untitled30.ipynb",
      "version": "0.3.2",
      "provenance": [],
      "collapsed_sections": [],
      "include_colab_link": true
    },
    "kernelspec": {
      "name": "python3",
      "display_name": "Python 3"
    },
    "accelerator": "GPU"
  },
  "cells": [
    {
      "cell_type": "markdown",
      "metadata": {
        "id": "view-in-github",
        "colab_type": "text"
      },
      "source": [
        "<a href=\"https://colab.research.google.com/github/PurvaChiniya/Sentiment_analysis/blob/master/LSTM_ATT_TEXT_CLASSIFIER.ipynb\" target=\"_parent\"><img src=\"https://colab.research.google.com/assets/colab-badge.svg\" alt=\"Open In Colab\"/></a>"
      ]
    },
    {
      "cell_type": "markdown",
      "metadata": {
        "id": "Ig4dvmkvnpF_",
        "colab_type": "text"
      },
      "source": [
        "# IMPORT LIBRARIES"
      ]
    },
    {
      "cell_type": "code",
      "metadata": {
        "id": "W9OgZoKde8lC",
        "colab_type": "code",
        "colab": {}
      },
      "source": [
        "import os\n",
        "import sys\n",
        "import time\n",
        "import torch\n",
        "from torch.nn import functional as F\n",
        "from torch.autograd import Variable\n",
        "import numpy as np\n",
        "from torchtext import data\n",
        "from torchtext import datasets\n",
        "import torch.optim as optim\n",
        "import numpy as np\n",
        "from torchtext.vocab import Vectors, GloVe\n"
      ],
      "execution_count": 0,
      "outputs": []
    },
    {
      "cell_type": "code",
      "metadata": {
        "id": "-lRs2DGDn9NX",
        "colab_type": "code",
        "colab": {}
      },
      "source": [
        "tokenize = lambda x: x.split()"
      ],
      "execution_count": 0,
      "outputs": []
    },
    {
      "cell_type": "markdown",
      "metadata": {
        "id": "8mLVFJh45en6",
        "colab_type": "text"
      },
      "source": [
        "# LOAD DATA"
      ]
    },
    {
      "cell_type": "code",
      "metadata": {
        "id": "184KJsbXsr3S",
        "colab_type": "code",
        "colab": {}
      },
      "source": [
        "TEXT = data.Field(sequential=True, tokenize=tokenize, lower=True, include_lengths=True, batch_first=True, fix_length=200)\n",
        "LABEL = data.LabelField()\n",
        "train_data, test_data = datasets.IMDB.splits(TEXT, LABEL)\n",
        "TEXT.build_vocab(train_data, vectors=GloVe(name='6B', dim=300))\n",
        "LABEL.build_vocab(train_data)"
      ],
      "execution_count": 0,
      "outputs": []
    },
    {
      "cell_type": "code",
      "metadata": {
        "id": "JsqA5dU4sudg",
        "colab_type": "code",
        "colab": {
          "base_uri": "https://localhost:8080/",
          "height": 34
        },
        "outputId": "c45d60af-7f96-4f4c-99c7-a80f48f8e454"
      },
      "source": [
        "word_embeddings = TEXT.vocab.vectors\n",
        "len(word_embeddings)"
      ],
      "execution_count": 144,
      "outputs": [
        {
          "output_type": "execute_result",
          "data": {
            "text/plain": [
              "251639"
            ]
          },
          "metadata": {
            "tags": []
          },
          "execution_count": 144
        }
      ]
    },
    {
      "cell_type": "code",
      "metadata": {
        "id": "7lydqYgEs2-n",
        "colab_type": "code",
        "outputId": "c5a05d49-4dd0-497b-ae6f-43ec557bbf7a",
        "colab": {
          "base_uri": "https://localhost:8080/",
          "height": 67
        }
      },
      "source": [
        "print (\"Length of Text Vocabulary: \" + str(len(TEXT.vocab)))\n",
        "print (\"Vector size of Text Vocabulary: \", TEXT.vocab.vectors.size())\n",
        "print (\"Label Length: \" + str(len(LABEL.vocab)))"
      ],
      "execution_count": 145,
      "outputs": [
        {
          "output_type": "stream",
          "text": [
            "Length of Text Vocabulary: 251639\n",
            "Vector size of Text Vocabulary:  torch.Size([251639, 300])\n",
            "Label Length: 2\n"
          ],
          "name": "stdout"
        }
      ]
    },
    {
      "cell_type": "code",
      "metadata": {
        "id": "HMAmN5A_tD0Y",
        "colab_type": "code",
        "colab": {}
      },
      "source": [
        "train_data, valid_data = train_data.split()\n",
        "train_iter, valid_iter, test_iter = data.BucketIterator.splits((train_data, valid_data, test_data), batch_size=32, sort_key=lambda x: len(x.text), repeat=False, shuffle=True)\n",
        "vocab_size = len(TEXT.vocab)"
      ],
      "execution_count": 0,
      "outputs": []
    },
    {
      "cell_type": "code",
      "metadata": {
        "id": "zCLEBa5crBCq",
        "colab_type": "code",
        "colab": {}
      },
      "source": [
        ""
      ],
      "execution_count": 0,
      "outputs": []
    },
    {
      "cell_type": "markdown",
      "metadata": {
        "id": "cKY9GKtjO9Sq",
        "colab_type": "text"
      },
      "source": [
        "# MODEL"
      ]
    },
    {
      "cell_type": "code",
      "metadata": {
        "id": "wQdEt6qEDJaZ",
        "colab_type": "code",
        "colab": {}
      },
      "source": [
        "class AttentionModel(torch.nn.Module):\n",
        "\tdef __init__(self, batch_size, output_size, hidden_size, vocab_size, embedding_length, weights):\n",
        "\t\tsuper(AttentionModel, self).__init__()\n",
        "\t\t\n",
        "\t\t\"\"\"\n",
        "\t\tArguments\n",
        "\t\t---------\n",
        "\t\tbatch_size : Size of the batch which is same as the batch_size of the data returned by the TorchText BucketIterator\n",
        "\t\toutput_size : 2 = (pos, neg)\n",
        "\t\thidden_sie : Size of the hidden_state of the LSTM\n",
        "\t\tvocab_size : Size of the vocabulary containing unique words\n",
        "\t\tembedding_length : Embeddding dimension of GloVe word embeddings\n",
        "\t\tweights : Pre-trained GloVe word_embeddings which we will use to create our word_embedding look-up table \n",
        "\t\t\n",
        "\t\t--------\n",
        "\t\t\n",
        "\t\t\"\"\"\n",
        "\t\t\n",
        "\t\tself.batch_size = batch_size\n",
        "\t\tself.output_size = output_size\n",
        "\t\tself.hidden_size = hidden_size\n",
        "\t\tself.vocab_size = vocab_size\n",
        "\t\tself.embedding_length = embedding_length\n",
        "\t\t\n",
        "\t\tself.word_embeddings = nn.Embedding(vocab_size, embedding_length)\n",
        "\t\tself.word_embeddings.weights = nn.Parameter(weights, requires_grad=False)\n",
        "\t\tself.lstm = nn.LSTM(embedding_length, hidden_size)\n",
        "\t\tself.label = nn.Linear(hidden_size, output_size)\n",
        "\t\t#self.attn_fc_layer = nn.Linear()\n",
        "\t\t\n",
        "\tdef attention_net(self, lstm_output, final_state):\n",
        "\n",
        "\t\t\"\"\" \n",
        "\t\t\n",
        "\t\t\n",
        "\t\tlstm_output : Final output of the LSTM which contains hidden layer outputs for each sequence.\n",
        "\t\tfinal_state : Final time-step hidden state (h_n) of the LSTM\n",
        "\t\t\n",
        "\t\t---------\n",
        "\t\t\n",
        "\t\tReturns : It performs attention mechanism by first computing weights for each of the sequence present in lstm_output and and then finally computing the\n",
        "\t\t\t\t  new hidden state.\n",
        "\t\t\t\t  \n",
        "\t\tTensor Size :\n",
        "\t\t\t\t\thidden.size() = (batch_size, hidden_size)\n",
        "\t\t\t\t\tattn_weights.size() = (batch_size, num_seq)\n",
        "\t\t\t\t\tsoft_attn_weights.size() = (batch_size, num_seq)\n",
        "\t\t\t\t\tnew_hidden_state.size() = (batch_size, hidden_size)\n",
        "\t\t\t\t\t  \n",
        "\t\t\"\"\"\n",
        "\t\t\n",
        "\t\thidden = final_state.squeeze(0)\n",
        "\t\tattn_weights = torch.bmm(lstm_output, hidden.unsqueeze(2)).squeeze(2)\n",
        "\t\tsoft_attn_weights = F.softmax(attn_weights, 1)\n",
        "\t\tnew_hidden_state = torch.bmm(lstm_output.transpose(1, 2), soft_attn_weights.unsqueeze(2)).squeeze(2)\n",
        "\t\t\n",
        "\t\treturn new_hidden_state\n",
        "\t\n",
        "\tdef forward(self, input_sentences, batch_size=None):\n",
        "\t\n",
        "\t\t\"\"\" \n",
        "\t\tParameters\n",
        "\t\t----------\n",
        "\t\tinput_sentence: input_sentence of shape = (batch_size, num_sequences)\n",
        "\t\tbatch_size : default = None. Used only for prediction on a single sentence after training (batch_size = 1)\n",
        "\t\t\n",
        "\t\tReturns\n",
        "\t\t-------\n",
        "\t\tOutput of the linear layer containing logits for pos & neg class which receives its input as the new_hidden_state which is basically the output of the Attention network.\n",
        "\t\tfinal_output.shape = (batch_size, output_size)\n",
        "\t\t\n",
        "\t\t\"\"\"\n",
        "\t\t\n",
        "\t\tinput = self.word_embeddings(input_sentences)\n",
        "\t\tinput = input.permute(1, 0, 2)\n",
        "\t\tif batch_size is None:\n",
        "\t\t\th_0 = Variable(torch.zeros(1, self.batch_size, self.hidden_size).cuda())\n",
        "\t\t\tc_0 = Variable(torch.zeros(1, self.batch_size, self.hidden_size).cuda())\n",
        "\t\telse:\n",
        "\t\t\th_0 = Variable(torch.zeros(1, batch_size, self.hidden_size).cuda())\n",
        "\t\t\tc_0 = Variable(torch.zeros(1, batch_size, self.hidden_size).cuda())\n",
        "\t\t\t\n",
        "\t\toutput, (final_hidden_state, final_cell_state) = self.lstm(input, (h_0, c_0)) # final_hidden_state.size() = (1, batch_size, hidden_size) \n",
        "\t\toutput = output.permute(1, 0, 2) # output.size() = (batch_size, num_seq, hidden_size)\n",
        "\t\t\n",
        "\t\tattn_output = self.attention_net(output, final_hidden_state)\n",
        "\t\tlogits = self.label(attn_output)\n",
        "\t\t\n",
        "\t\treturn logits"
      ],
      "execution_count": 0,
      "outputs": []
    },
    {
      "cell_type": "code",
      "metadata": {
        "id": "qJnvMaLeO4GT",
        "colab_type": "code",
        "colab": {}
      },
      "source": [
        "def clip_gradient(model, clip_value):\n",
        "    params = list(filter(lambda p: p.grad is not None, model.parameters()))\n",
        "    for p in params:\n",
        "        p.grad.data.clamp_(-clip_value, clip_value)"
      ],
      "execution_count": 0,
      "outputs": []
    },
    {
      "cell_type": "code",
      "metadata": {
        "id": "CUQvb9mwPgou",
        "colab_type": "code",
        "colab": {}
      },
      "source": [
        "def train_model(model, train_iter, epoch):\n",
        "    total_epoch_loss = 0\n",
        "    total_epoch_acc = 0\n",
        "    model.cuda()\n",
        "    optim = torch.optim.Adam(filter(lambda p: p.requires_grad, model.parameters()))\n",
        "    steps = 0\n",
        "    model.train()\n",
        "    for idx, batch in enumerate(train_iter):\n",
        "        text = batch.text[0]\n",
        "        target = batch.label\n",
        "        target = torch.autograd.Variable(target).long()\n",
        "        if torch.cuda.is_available():\n",
        "            text = text.cuda()\n",
        "            target = target.cuda()\n",
        "        if (text.size()[0] is not 32):# One of the batch returned by BucketIterator has length different than 32.\n",
        "            continue\n",
        "        optim.zero_grad()\n",
        "        prediction = model(text)\n",
        "        loss = loss_fn(prediction, target)\n",
        "        num_corrects = (torch.max(prediction, 1)[1].view(target.size()).data == target.data).float().sum()\n",
        "        acc = 100.0 * num_corrects/len(batch)\n",
        "        loss.backward()\n",
        "        clip_gradient(model, 1e-1)\n",
        "        optim.step()\n",
        "        steps += 1\n",
        "        \n",
        "        if steps % 100 == 0:\n",
        "            print (f'Epoch: {epoch+1}, Idx: {idx+1}, Training Loss: {loss.item():.4f}, Training Accuracy: {acc.item(): .2f}%')\n",
        "        \n",
        "        total_epoch_loss += loss.item()\n",
        "        total_epoch_acc += acc.item()\n",
        "        \n",
        "    return total_epoch_loss/len(train_iter), total_epoch_acc/len(train_iter)"
      ],
      "execution_count": 0,
      "outputs": []
    },
    {
      "cell_type": "code",
      "metadata": {
        "id": "rzMvFfGjPna7",
        "colab_type": "code",
        "colab": {}
      },
      "source": [
        "def eval_model(model, val_iter):\n",
        "    total_epoch_loss = 0\n",
        "    total_epoch_acc = 0\n",
        "    model.eval()\n",
        "    with torch.no_grad():\n",
        "        for idx, batch in enumerate(val_iter):\n",
        "            text = batch.text[0]\n",
        "            if (text.size()[0] is not 32):\n",
        "                continue\n",
        "            target = batch.label\n",
        "            target = torch.autograd.Variable(target).long()\n",
        "            if torch.cuda.is_available():\n",
        "                text = text.cuda()\n",
        "                target = target.cuda()\n",
        "            prediction = model(text)\n",
        "            loss = loss_fn(prediction, target)\n",
        "            num_corrects = (torch.max(prediction, 1)[1].view(target.size()).data == target.data).sum()\n",
        "            acc = 100.0 * num_corrects/len(batch)\n",
        "            total_epoch_loss += loss.item()\n",
        "            total_epoch_acc += acc.item()\n",
        "\n",
        "    return total_epoch_loss/len(val_iter), total_epoch_acc/len(val_iter)\n",
        "\t"
      ],
      "execution_count": 0,
      "outputs": []
    },
    {
      "cell_type": "markdown",
      "metadata": {
        "id": "yYYviE_tO4fd",
        "colab_type": "text"
      },
      "source": [
        "# TRAINING PARAMETERS"
      ]
    },
    {
      "cell_type": "code",
      "metadata": {
        "id": "U1NWR6Ek3rq3",
        "colab_type": "code",
        "colab": {}
      },
      "source": [
        "\n",
        "\n",
        "learning_rate = 2e-5\n",
        "batch_size = 32\n",
        "output_size = 2\n",
        "hidden_size = 256\n",
        "embedding_length = 300\n",
        "in_channels=1\n",
        "kernel_heights=[3,4,5]\n",
        "stride=1\n",
        "padding=1\n",
        "out_channels=1\n",
        "keep_probab=0.5\n",
        "model =AttentionModel(batch_size, output_size, hidden_size, vocab_size, embedding_length, weights)\n",
        "\t\t\n",
        "\n",
        "\n",
        "\n",
        "loss_fn = F.cross_entropy\n",
        "\n"
      ],
      "execution_count": 0,
      "outputs": []
    },
    {
      "cell_type": "code",
      "metadata": {
        "id": "yqHmZZFCTa6X",
        "colab_type": "code",
        "colab": {
          "base_uri": "https://localhost:8080/",
          "height": 34
        },
        "outputId": "bf9141ec-ffa5-41f2-ba18-24d7193d98a2"
      },
      "source": [
        "vocab_size"
      ],
      "execution_count": 160,
      "outputs": [
        {
          "output_type": "execute_result",
          "data": {
            "text/plain": [
              "251639"
            ]
          },
          "metadata": {
            "tags": []
          },
          "execution_count": 160
        }
      ]
    },
    {
      "cell_type": "markdown",
      "metadata": {
        "id": "dUSH9mA4OdBB",
        "colab_type": "text"
      },
      "source": [
        "# TRAIN"
      ]
    },
    {
      "cell_type": "code",
      "metadata": {
        "id": "pnKi_M7EtxtI",
        "colab_type": "code",
        "colab": {
          "base_uri": "https://localhost:8080/",
          "height": 1000
        },
        "outputId": "cc8ecc4b-27b2-4180-e9e3-2072698f8838"
      },
      "source": [
        "for epoch in range(10):\n",
        "    train_loss, train_acc = train_model(model, train_iter, epoch)\n",
        "    val_loss, val_acc = eval_model(model, valid_iter)\n",
        "    \n",
        "    print(f'Epoch: {epoch+1:02}, Train Loss: {train_loss:.3f}, Train Acc: {train_acc:.2f}%, Val. Loss: {val_loss:3f}, Val. Acc: {val_acc:.2f}%')\n",
        "\n"
      ],
      "execution_count": 162,
      "outputs": [
        {
          "output_type": "stream",
          "text": [
            "Epoch: 1, Idx: 100, Training Loss: 0.7004, Training Accuracy:  31.25%\n",
            "Epoch: 1, Idx: 200, Training Loss: 0.6754, Training Accuracy:  68.75%\n",
            "Epoch: 1, Idx: 300, Training Loss: 0.6706, Training Accuracy:  65.62%\n",
            "Epoch: 1, Idx: 400, Training Loss: 0.5630, Training Accuracy:  78.12%\n",
            "Epoch: 1, Idx: 500, Training Loss: 0.6646, Training Accuracy:  65.62%\n",
            "Epoch: 01, Train Loss: 0.683, Train Acc: 56.81%, Val. Loss: 0.671653, Val. Acc: 61.04%\n",
            "Epoch: 2, Idx: 100, Training Loss: 0.5715, Training Accuracy:  75.00%\n",
            "Epoch: 2, Idx: 200, Training Loss: 0.3633, Training Accuracy:  84.38%\n",
            "Epoch: 2, Idx: 300, Training Loss: 0.5169, Training Accuracy:  75.00%\n",
            "Epoch: 2, Idx: 400, Training Loss: 0.3840, Training Accuracy:  87.50%\n",
            "Epoch: 2, Idx: 500, Training Loss: 0.6620, Training Accuracy:  71.88%\n",
            "Epoch: 02, Train Loss: 0.484, Train Acc: 78.23%, Val. Loss: 0.423625, Val. Acc: 80.36%\n",
            "Epoch: 3, Idx: 100, Training Loss: 0.1108, Training Accuracy:  96.88%\n",
            "Epoch: 3, Idx: 200, Training Loss: 0.4566, Training Accuracy:  84.38%\n",
            "Epoch: 3, Idx: 300, Training Loss: 0.3155, Training Accuracy:  87.50%\n",
            "Epoch: 3, Idx: 400, Training Loss: 0.2564, Training Accuracy:  84.38%\n",
            "Epoch: 3, Idx: 500, Training Loss: 0.0633, Training Accuracy:  100.00%\n",
            "Epoch: 03, Train Loss: 0.262, Train Acc: 89.51%, Val. Loss: 0.407553, Val. Acc: 82.31%\n",
            "Epoch: 4, Idx: 100, Training Loss: 0.1425, Training Accuracy:  93.75%\n",
            "Epoch: 4, Idx: 200, Training Loss: 0.0936, Training Accuracy:  93.75%\n",
            "Epoch: 4, Idx: 300, Training Loss: 0.2182, Training Accuracy:  93.75%\n",
            "Epoch: 4, Idx: 400, Training Loss: 0.3073, Training Accuracy:  87.50%\n",
            "Epoch: 4, Idx: 500, Training Loss: 0.1052, Training Accuracy:  96.88%\n",
            "Epoch: 04, Train Loss: 0.132, Train Acc: 95.08%, Val. Loss: 0.482245, Val. Acc: 82.75%\n",
            "Epoch: 5, Idx: 100, Training Loss: 0.1207, Training Accuracy:  93.75%\n",
            "Epoch: 5, Idx: 200, Training Loss: 0.0132, Training Accuracy:  100.00%\n",
            "Epoch: 5, Idx: 300, Training Loss: 0.0473, Training Accuracy:  96.88%\n",
            "Epoch: 5, Idx: 400, Training Loss: 0.0952, Training Accuracy:  96.88%\n",
            "Epoch: 5, Idx: 500, Training Loss: 0.0150, Training Accuracy:  100.00%\n",
            "Epoch: 05, Train Loss: 0.063, Train Acc: 97.73%, Val. Loss: 0.549660, Val. Acc: 81.78%\n",
            "Epoch: 6, Idx: 100, Training Loss: 0.0050, Training Accuracy:  100.00%\n",
            "Epoch: 6, Idx: 200, Training Loss: 0.0017, Training Accuracy:  100.00%\n",
            "Epoch: 6, Idx: 300, Training Loss: 0.0230, Training Accuracy:  100.00%\n",
            "Epoch: 6, Idx: 400, Training Loss: 0.0367, Training Accuracy:  96.88%\n",
            "Epoch: 6, Idx: 500, Training Loss: 0.0818, Training Accuracy:  96.88%\n",
            "Epoch: 06, Train Loss: 0.032, Train Acc: 98.86%, Val. Loss: 0.636343, Val. Acc: 81.54%\n",
            "Epoch: 7, Idx: 100, Training Loss: 0.0019, Training Accuracy:  100.00%\n",
            "Epoch: 7, Idx: 200, Training Loss: 0.0006, Training Accuracy:  100.00%\n",
            "Epoch: 7, Idx: 300, Training Loss: 0.0003, Training Accuracy:  100.00%\n",
            "Epoch: 7, Idx: 400, Training Loss: 0.0016, Training Accuracy:  100.00%\n",
            "Epoch: 7, Idx: 500, Training Loss: 0.0534, Training Accuracy:  96.88%\n",
            "Epoch: 07, Train Loss: 0.017, Train Acc: 99.39%, Val. Loss: 0.776221, Val. Acc: 82.14%\n",
            "Epoch: 8, Idx: 100, Training Loss: 0.0023, Training Accuracy:  100.00%\n",
            "Epoch: 8, Idx: 200, Training Loss: 0.0001, Training Accuracy:  100.00%\n",
            "Epoch: 8, Idx: 300, Training Loss: 0.0008, Training Accuracy:  100.00%\n",
            "Epoch: 8, Idx: 400, Training Loss: 0.0003, Training Accuracy:  100.00%\n",
            "Epoch: 8, Idx: 500, Training Loss: 0.0022, Training Accuracy:  100.00%\n",
            "Epoch: 08, Train Loss: 0.008, Train Acc: 99.60%, Val. Loss: 0.914730, Val. Acc: 82.88%\n",
            "Epoch: 9, Idx: 100, Training Loss: 0.0000, Training Accuracy:  100.00%\n",
            "Epoch: 9, Idx: 200, Training Loss: 0.0000, Training Accuracy:  100.00%\n",
            "Epoch: 9, Idx: 300, Training Loss: 0.0006, Training Accuracy:  100.00%\n",
            "Epoch: 9, Idx: 400, Training Loss: 0.0312, Training Accuracy:  96.88%\n",
            "Epoch: 9, Idx: 500, Training Loss: 0.0003, Training Accuracy:  100.00%\n",
            "Epoch: 09, Train Loss: 0.005, Train Acc: 99.66%, Val. Loss: 0.949451, Val. Acc: 82.37%\n",
            "Epoch: 10, Idx: 100, Training Loss: 0.0078, Training Accuracy:  100.00%\n",
            "Epoch: 10, Idx: 200, Training Loss: 0.0000, Training Accuracy:  100.00%\n",
            "Epoch: 10, Idx: 300, Training Loss: 0.0017, Training Accuracy:  100.00%\n",
            "Epoch: 10, Idx: 400, Training Loss: 0.0056, Training Accuracy:  100.00%\n",
            "Epoch: 10, Idx: 500, Training Loss: 0.0011, Training Accuracy:  100.00%\n",
            "Epoch: 10, Train Loss: 0.005, Train Acc: 99.69%, Val. Loss: 1.008041, Val. Acc: 82.40%\n"
          ],
          "name": "stdout"
        }
      ]
    },
    {
      "cell_type": "markdown",
      "metadata": {
        "id": "FVeO-gg1Ofkc",
        "colab_type": "text"
      },
      "source": [
        "# ACCURACY"
      ]
    },
    {
      "cell_type": "code",
      "metadata": {
        "id": "tLrfzwzvOka1",
        "colab_type": "code",
        "colab": {
          "base_uri": "https://localhost:8080/",
          "height": 34
        },
        "outputId": "de9bbfae-ddd7-4f67-feea-12d39ed4edbd"
      },
      "source": [
        "    \n",
        "test_loss, test_acc = eval_model(model, test_iter)\n",
        "print(f'Test Loss: {test_loss:.3f}, Test Acc: {test_acc:.2f}%')\n"
      ],
      "execution_count": 163,
      "outputs": [
        {
          "output_type": "stream",
          "text": [
            "Test Loss: 1.094, Test Acc: 81.41%\n"
          ],
          "name": "stdout"
        }
      ]
    },
    {
      "cell_type": "markdown",
      "metadata": {
        "id": "HFC0Q1qgOVF6",
        "colab_type": "text"
      },
      "source": [
        "# PREDICTION"
      ]
    },
    {
      "cell_type": "code",
      "metadata": {
        "id": "YDCPNalYOWds",
        "colab_type": "code",
        "colab": {
          "base_uri": "https://localhost:8080/",
          "height": 87
        },
        "outputId": "13615e70-8a83-4337-8a78-9eef5093f02a"
      },
      "source": [
        "test_sen1 = \"This is one of the best creation of Nolan. I can say, it's his magnum opus. Loved the soundtrack and especially those creative dialogues.\"\n",
        "test_sen2 = \"Ohh, such a ridiculous movie. Not gonna recommend it to anyone. Complete waste of time and money.\"\n",
        "\n",
        "test_sen1 = TEXT.preprocess(test_sen1)\n",
        "test_sen1 = [[TEXT.vocab.stoi[x] for x in test_sen1]]\n",
        "\n",
        "test_sen2 = TEXT.preprocess(test_sen2)\n",
        "test_sen2 = [[TEXT.vocab.stoi[x] for x in test_sen2]]\n",
        "\n",
        "test_sen = np.asarray(test_sen1)\n",
        "test_sen = torch.LongTensor(test_sen)\n",
        "test_tensor = Variable(test_sen, volatile=True)\n",
        "test_tensor = test_tensor.cuda()\n",
        "model.eval()\n",
        "output = model(test_tensor, 1)\n",
        "out = F.softmax(output, 1)\n",
        "if (torch.argmax(out[0]) == 1):\n",
        "    print (\"Sentiment: Positive\")\n",
        "else:\n",
        "    print (\"Sentiment: Negative\")"
      ],
      "execution_count": 164,
      "outputs": [
        {
          "output_type": "stream",
          "text": [
            "Sentiment: Positive\n"
          ],
          "name": "stdout"
        },
        {
          "output_type": "stream",
          "text": [
            "/usr/local/lib/python3.6/dist-packages/ipykernel_launcher.py:12: UserWarning: volatile was removed and now has no effect. Use `with torch.no_grad():` instead.\n",
            "  if sys.path[0] == '':\n"
          ],
          "name": "stderr"
        }
      ]
    },
    {
      "cell_type": "code",
      "metadata": {
        "id": "w2SWGtAcOXO2",
        "colab_type": "code",
        "colab": {
          "base_uri": "https://localhost:8080/",
          "height": 87
        },
        "outputId": "7379132d-1b6b-488f-f11d-282fad811306"
      },
      "source": [
        "test_sen = np.asarray(test_sen2)\n",
        "test_sen = torch.LongTensor(test_sen)\n",
        "test_tensor = Variable(test_sen, volatile=True)\n",
        "test_tensor = test_tensor.cuda()\n",
        "model.eval()\n",
        "output = model(test_tensor, 1)\n",
        "out = F.softmax(output, 1)\n",
        "if (torch.argmax(out[0]) == 1):\n",
        "    print (\"Sentiment: Positive\")\n",
        "else:\n",
        "    print (\"Sentiment: Negative\")"
      ],
      "execution_count": 165,
      "outputs": [
        {
          "output_type": "stream",
          "text": [
            "Sentiment: Negative\n"
          ],
          "name": "stdout"
        },
        {
          "output_type": "stream",
          "text": [
            "/usr/local/lib/python3.6/dist-packages/ipykernel_launcher.py:3: UserWarning: volatile was removed and now has no effect. Use `with torch.no_grad():` instead.\n",
            "  This is separate from the ipykernel package so we can avoid doing imports until\n"
          ],
          "name": "stderr"
        }
      ]
    },
    {
      "cell_type": "code",
      "metadata": {
        "id": "aTXtN1-qRQPq",
        "colab_type": "code",
        "colab": {}
      },
      "source": [
        ""
      ],
      "execution_count": 0,
      "outputs": []
    }
  ]
}